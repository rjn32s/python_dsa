{
 "cells": [
  {
   "cell_type": "markdown",
   "metadata": {},
   "source": [
    "This Note Book is For learning the Advance Python Library\n"
   ]
  },
  {
   "cell_type": "code",
   "execution_count": 30,
   "metadata": {},
   "outputs": [],
   "source": [
    "# collection : counter , namedtuple , orderdict , defaultdict  ,dequqe\n",
    "from collections import Counter\n"
   ]
  },
  {
   "cell_type": "code",
   "execution_count": 31,
   "metadata": {},
   "outputs": [],
   "source": [
    "a = \"aaaaaabbbbbcccc\" # We can use any other iterable Here\n",
    "my_counter = Counter(a)\n"
   ]
  },
  {
   "cell_type": "code",
   "execution_count": 32,
   "metadata": {},
   "outputs": [
    {
     "name": "stdout",
     "output_type": "stream",
     "text": [
      "a\n"
     ]
    }
   ],
   "source": [
    "print(my_counter.most_common()[0][0]) # most common\n"
   ]
  },
  {
   "cell_type": "code",
   "execution_count": 33,
   "metadata": {},
   "outputs": [
    {
     "name": "stdout",
     "output_type": "stream",
     "text": [
      "['a', 'a', 'a', 'a', 'a', 'a', 'b', 'b', 'b', 'b', 'b', 'c', 'c', 'c', 'c']\n"
     ]
    }
   ],
   "source": [
    "print(list(my_counter.elements()))"
   ]
  },
  {
   "cell_type": "code",
   "execution_count": 34,
   "metadata": {},
   "outputs": [],
   "source": [
    "from collections import namedtuple"
   ]
  },
  {
   "cell_type": "code",
   "execution_count": 35,
   "metadata": {},
   "outputs": [],
   "source": [
    "Point = namedtuple('Point','x,y')"
   ]
  },
  {
   "cell_type": "code",
   "execution_count": 36,
   "metadata": {},
   "outputs": [
    {
     "name": "stdout",
     "output_type": "stream",
     "text": [
      "1\n",
      "-4\n"
     ]
    }
   ],
   "source": [
    "pt = Point(1,-4)\n",
    "print(pt.x)\n",
    "print(pt.y)"
   ]
  },
  {
   "cell_type": "code",
   "execution_count": 38,
   "metadata": {},
   "outputs": [],
   "source": [
    "from collections import defaultdict\n"
   ]
  },
  {
   "cell_type": "code",
   "execution_count": 39,
   "metadata": {},
   "outputs": [],
   "source": [
    "ddict = defaultdict(int)\n",
    "ddict['a'] = 1\n",
    "ddict['b'] = 2\n",
    "ddict['c'] = 3\n",
    "ddict['d'] = 4"
   ]
  },
  {
   "cell_type": "code",
   "execution_count": 43,
   "metadata": {},
   "outputs": [
    {
     "name": "stdout",
     "output_type": "stream",
     "text": [
      "0\n"
     ]
    }
   ],
   "source": [
    "print(ddict['e']) # this will return the default value 0 for int\n"
   ]
  },
  {
   "cell_type": "code",
   "execution_count": 55,
   "metadata": {},
   "outputs": [
    {
     "name": "stdout",
     "output_type": "stream",
     "text": [
      "[(1, 5), (1, 6), (2, 5), (2, 6), (3, 5), (3, 6)]\n",
      "[('H', 'T'), ('H', 'Hh'), ('H', 'Tt'), ('T', 'H'), ('T', 'Hh'), ('T', 'Tt'), ('Hh', 'H'), ('Hh', 'T'), ('Hh', 'Tt'), ('Tt', 'H'), ('Tt', 'T'), ('Tt', 'Hh')]\n"
     ]
    }
   ],
   "source": [
    "# itertools: product , permutations , combinations , accumulate , groupby , and infinte iterators\n",
    "\n",
    "from itertools import *\n",
    "# product\n",
    "a = [1,2,3]\n",
    "b = [5,6]\n",
    "print(list(product(a,b)))\n",
    "c = ['H','T','Hh','Tt']\n",
    "print(list(permutations(c,2)))\n",
    "\n"
   ]
  },
  {
   "cell_type": "code",
   "execution_count": 57,
   "metadata": {},
   "outputs": [
    {
     "name": "stdout",
     "output_type": "stream",
     "text": [
      "[(1, 2), (1, 3), (1, 4), (1, 5), (2, 3), (2, 4), (2, 5), (3, 4), (3, 5), (4, 5)]\n"
     ]
    }
   ],
   "source": [
    "a = [1,2,3,4,5]\n",
    "print(list(combinations(a,2)))"
   ]
  },
  {
   "cell_type": "code",
   "execution_count": 58,
   "metadata": {},
   "outputs": [
    {
     "name": "stdout",
     "output_type": "stream",
     "text": [
      "[1, 3, 6, 10, 15]\n"
     ]
    }
   ],
   "source": [
    "a = [1,2,3,4,5]\n",
    "print(list(accumulate(a))) # Take sum"
   ]
  },
  {
   "cell_type": "code",
   "execution_count": 59,
   "metadata": {},
   "outputs": [
    {
     "name": "stdout",
     "output_type": "stream",
     "text": [
      "[1, 2, 6, 24, 120]\n"
     ]
    }
   ],
   "source": [
    "import operator\n",
    "print(list(accumulate(a,func=operator.mul))) #max #"
   ]
  },
  {
   "cell_type": "code",
   "execution_count": 62,
   "metadata": {},
   "outputs": [
    {
     "name": "stdout",
     "output_type": "stream",
     "text": [
      "True [1, 2]\n",
      "False [3, 4, 5]\n"
     ]
    }
   ],
   "source": [
    "# groupby\n",
    "a = [1,2,3,4,5]\n",
    "gr=groupby(a,key=lambda x:x <3)\n",
    "for key ,value in gr:\n",
    "    print(key , list(value))"
   ]
  },
  {
   "cell_type": "code",
   "execution_count": 65,
   "metadata": {},
   "outputs": [],
   "source": [
    "# lambda function in python\n",
    "# lambda argument : expression\n",
    "\n",
    "add10 = lambda x:x+10\n",
    "mlt = lambda x,y:x*y"
   ]
  },
  {
   "cell_type": "code",
   "execution_count": 66,
   "metadata": {},
   "outputs": [
    {
     "name": "stdout",
     "output_type": "stream",
     "text": [
      "14\n"
     ]
    }
   ],
   "source": [
    "print(mlt(2,7))"
   ]
  },
  {
   "cell_type": "code",
   "execution_count": 69,
   "metadata": {},
   "outputs": [
    {
     "name": "stdout",
     "output_type": "stream",
     "text": [
      "[(5, 6), (1, 3), (2, 1), (5, -7), (40, -9)]\n"
     ]
    }
   ],
   "source": [
    "# Using Sorted\n",
    "points2D = [(1,3),(5,-7),(5,6),(2,1),(40,-9)]\n",
    "points2D_sorted = sorted(points2D,key=lambda x:x[1],reverse=True)\n",
    "print(points2D_sorted)"
   ]
  },
  {
   "cell_type": "code",
   "execution_count": 71,
   "metadata": {},
   "outputs": [
    {
     "name": "stdout",
     "output_type": "stream",
     "text": [
      "[2, 4, 6, 8, 10]\n",
      "[2, 4, 6, 8, 10]\n"
     ]
    }
   ],
   "source": [
    "# map\n",
    "b = map(lambda x:2*x,a)\n",
    "print(list(b))\n",
    "\n",
    "\n",
    "# Or u can use list comprehension\n",
    "c = [x*2 for x in a]\n",
    "print(c)"
   ]
  },
  {
   "cell_type": "code",
   "execution_count": 73,
   "metadata": {},
   "outputs": [
    {
     "name": "stdout",
     "output_type": "stream",
     "text": [
      "[2, 4]\n"
     ]
    }
   ],
   "source": [
    "# filter(func , seq)\n",
    "b = filter(lambda x:x%2 ==0,a)\n",
    "print(list(b))"
   ]
  },
  {
   "cell_type": "code",
   "execution_count": 74,
   "metadata": {},
   "outputs": [],
   "source": [
    "# JSON\n",
    "person = {\"name\":\"Rajan\",\"age\":21,\"city\":\"New York\",\"hasChildren\":False,\"title\":[\"engineer\",\"programmer\"]}\n"
   ]
  },
  {
   "cell_type": "code",
   "execution_count": 84,
   "metadata": {},
   "outputs": [
    {
     "name": "stdout",
     "output_type": "stream",
     "text": [
      "{\n",
      "    \"age\": 21,\n",
      "    \"city\": \"New York\",\n",
      "    \"hasChildren\": false,\n",
      "    \"name\": \"Rajan\",\n",
      "    \"title\": [\n",
      "        \"engineer\",\n",
      "        \"programmer\"\n",
      "    ]\n",
      "}\n"
     ]
    }
   ],
   "source": [
    "import json\n",
    "person_json = json.dumps(person, indent =4,sort_keys=True)#separators=(': ','= ') \n",
    "print(person_json)\n",
    "#seiralzation\n",
    "with open('person.json','w') as file:\n",
    "    json.dump(person,file,indent = 4)"
   ]
  },
  {
   "cell_type": "code",
   "execution_count": 89,
   "metadata": {},
   "outputs": [],
   "source": [
    "# Desirialization\n",
    "nperson = json.loads(person_json)"
   ]
  },
  {
   "cell_type": "code",
   "execution_count": 90,
   "metadata": {},
   "outputs": [
    {
     "name": "stdout",
     "output_type": "stream",
     "text": [
      "{'age': 21, 'city': 'New York', 'hasChildren': False, 'name': 'Rajan', 'title': ['engineer', 'programmer']}\n"
     ]
    }
   ],
   "source": [
    "print(nperson)"
   ]
  },
  {
   "cell_type": "code",
   "execution_count": 93,
   "metadata": {},
   "outputs": [
    {
     "name": "stdout",
     "output_type": "stream",
     "text": [
      "{'name': 'Rajan', 'age': 21, 'city': 'New York', 'hasChildren': False, 'title': ['engineer', 'programmer']}\n"
     ]
    }
   ],
   "source": [
    "with open('person.json','r') as file:\n",
    "    person = json.load(file)\n",
    "    print(person)\n",
    "    "
   ]
  },
  {
   "cell_type": "code",
   "execution_count": 98,
   "metadata": {},
   "outputs": [
    {
     "name": "stdout",
     "output_type": "stream",
     "text": [
      "{\"name\": \"Max\", \"age\": 29, \"User\": true}\n"
     ]
    }
   ],
   "source": [
    "class User:\n",
    "    def __init__(self,name,age):\n",
    "        self.name = name\n",
    "        self.age = age\n",
    "user1 = User('Max' , 29)\n",
    "user2 = User('Mid' , 19)\n",
    "user3 = User('Min' , 9)\n",
    "\n",
    "def encode_user(o):\n",
    "    if isinstance(o,User):\n",
    "        return{'name':o.name,'age':o.age,o.__class__.__name__:True}\n",
    "    else:\n",
    "        raise TypeError('Object of type User is not JSON serializable')\n",
    "    \n",
    "\n",
    "user1JSON = json.dumps(user1,default=encode_user)\n",
    "print(user1JSON)\n",
    "        "
   ]
  },
  {
   "cell_type": "code",
   "execution_count": null,
   "metadata": {},
   "outputs": [],
   "source": [
    "# Decorator\n",
    "\n",
    "def dosomething():\n",
    "    print(\"Rajan\")\n",
    "    \n"
   ]
  }
 ],
 "metadata": {
  "interpreter": {
   "hash": "fe57891b2015fc4445c66243cb1fa8ae14d35ad75c4c5b6191cb68098b839c29"
  },
  "kernelspec": {
   "display_name": "Python 3.9.7 64-bit ('base': conda)",
   "language": "python",
   "name": "python3"
  },
  "language_info": {
   "codemirror_mode": {
    "name": "ipython",
    "version": 3
   },
   "file_extension": ".py",
   "mimetype": "text/x-python",
   "name": "python",
   "nbconvert_exporter": "python",
   "pygments_lexer": "ipython3",
   "version": "3.9.7"
  },
  "orig_nbformat": 4
 },
 "nbformat": 4,
 "nbformat_minor": 2
}
